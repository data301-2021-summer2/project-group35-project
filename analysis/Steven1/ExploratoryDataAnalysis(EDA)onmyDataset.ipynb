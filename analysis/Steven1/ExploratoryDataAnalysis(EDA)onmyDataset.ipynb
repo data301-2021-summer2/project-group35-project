{
 "cells": [
  {
   "cell_type": "markdown",
   "id": "8231d7be-8857-46fb-8cc4-2abedea4b504",
   "metadata": {},
   "source": [
    "# Exploratory Data Analysis (EDA) on my Dataset"
   ]
  },
  {
   "cell_type": "markdown",
   "id": "81ae45a6-3d4e-4516-a4cc-b1d3a25c05c4",
   "metadata": {},
   "source": [
    "## Imports"
   ]
  },
  {
   "cell_type": "code",
   "execution_count": 98,
   "id": "0454c241-448e-45ec-a4ef-965908d8a772",
   "metadata": {},
   "outputs": [],
   "source": [
    "%matplotlib inline\n",
    "import pandas as pd \n",
    "import seaborn as sns\n",
    "import numpy as np\n",
    "import os\n",
    "import matplotlib.pyplot as plt\n",
    "import pandas_profiling\n",
    "\n"
   ]
  },
  {
   "cell_type": "markdown",
   "id": "9bbb119a-d8b0-45f8-925e-3b9527c95ef5",
   "metadata": {},
   "source": [
    "## Research Question\n",
    "\n",
    "#### What car manufacturer produces the longest lasting and best quality of cars based on model year and mileage?"
   ]
  },
  {
   "cell_type": "markdown",
   "id": "0c578ead-95c5-456e-9480-d0253ea09b02",
   "metadata": {},
   "source": [
    "## Loading data and Method Chaining\n",
    "##### Also stored in project_functions"
   ]
  },
  {
   "cell_type": "markdown",
   "id": "7361fe11-1043-4135-a6ad-fb09e79f63df",
   "metadata": {},
   "source": [
    "#### by Year"
   ]
  },
  {
   "cell_type": "code",
   "execution_count": 9,
   "id": "0d2491af-4317-40d1-ad93-c29afed21ddc",
   "metadata": {},
   "outputs": [
    {
     "data": {
      "text/html": [
       "<div>\n",
       "<style scoped>\n",
       "    .dataframe tbody tr th:only-of-type {\n",
       "        vertical-align: middle;\n",
       "    }\n",
       "\n",
       "    .dataframe tbody tr th {\n",
       "        vertical-align: top;\n",
       "    }\n",
       "\n",
       "    .dataframe thead th {\n",
       "        text-align: right;\n",
       "    }\n",
       "</style>\n",
       "<table border=\"1\" class=\"dataframe\">\n",
       "  <thead>\n",
       "    <tr style=\"text-align: right;\">\n",
       "      <th></th>\n",
       "      <th>Manufacturer</th>\n",
       "      <th>Model Year</th>\n",
       "    </tr>\n",
       "  </thead>\n",
       "  <tbody>\n",
       "    <tr>\n",
       "      <th>595</th>\n",
       "      <td>acura</td>\n",
       "      <td>2014</td>\n",
       "    </tr>\n",
       "    <tr>\n",
       "      <th>390</th>\n",
       "      <td>acura</td>\n",
       "      <td>2009</td>\n",
       "    </tr>\n",
       "    <tr>\n",
       "      <th>374</th>\n",
       "      <td>acura</td>\n",
       "      <td>2008</td>\n",
       "    </tr>\n",
       "    <tr>\n",
       "      <th>409</th>\n",
       "      <td>audi</td>\n",
       "      <td>2008</td>\n",
       "    </tr>\n",
       "    <tr>\n",
       "      <th>444</th>\n",
       "      <td>audi</td>\n",
       "      <td>2015</td>\n",
       "    </tr>\n",
       "    <tr>\n",
       "      <th>...</th>\n",
       "      <td>...</td>\n",
       "      <td>...</td>\n",
       "    </tr>\n",
       "    <tr>\n",
       "      <th>2282</th>\n",
       "      <td>nissan</td>\n",
       "      <td>2018</td>\n",
       "    </tr>\n",
       "    <tr>\n",
       "      <th>2292</th>\n",
       "      <td>nissan</td>\n",
       "      <td>2012</td>\n",
       "    </tr>\n",
       "    <tr>\n",
       "      <th>2293</th>\n",
       "      <td>nissan</td>\n",
       "      <td>2018</td>\n",
       "    </tr>\n",
       "    <tr>\n",
       "      <th>505</th>\n",
       "      <td>ram</td>\n",
       "      <td>2017</td>\n",
       "    </tr>\n",
       "    <tr>\n",
       "      <th>0</th>\n",
       "      <td>toyota</td>\n",
       "      <td>2008</td>\n",
       "    </tr>\n",
       "  </tbody>\n",
       "</table>\n",
       "<p>2495 rows × 2 columns</p>\n",
       "</div>"
      ],
      "text/plain": [
       "     Manufacturer  Model Year\n",
       "595         acura        2014\n",
       "390         acura        2009\n",
       "374         acura        2008\n",
       "409          audi        2008\n",
       "444          audi        2015\n",
       "...           ...         ...\n",
       "2282       nissan        2018\n",
       "2292       nissan        2012\n",
       "2293       nissan        2018\n",
       "505           ram        2017\n",
       "0          toyota        2008\n",
       "\n",
       "[2495 rows x 2 columns]"
      ]
     },
     "execution_count": 9,
     "metadata": {},
     "output_type": "execute_result"
    }
   ],
   "source": [
    "def load_and_process_df_Method_Chain_by_Year(path_to_csv_file):\n",
    "\n",
    "    df_Method_Chain_by_Year1 = (\n",
    "        pd.read_csv(\"/Users/stevenzonneveld/Desktop/data301/project-group35-project/data/raw/MileStone1.csv\")\n",
    "        .drop(columns = ['Unnamed: 0', 'price', 'title_status', 'color', 'state', 'mileage'], axis = 0)\n",
    "        .sort_values(by = ['brand'])\n",
    "        #.drop( df_cleaned [ df_cleaned ['brand'] == 'peterbilt'].index, inplace=True)  #could not figure out how to use .drop in method chaining.\n",
    "        .rename(columns = {\"brand\": \"Manufacturer\", \"year\": \"Model Year\"})   \n",
    "        )\n",
    "    df_Method_Chain_by_Year2 = df_Method_Chain_by_Year1.drop( df_Method_Chain_by_Year1 [ df_Method_Chain_by_Year1 ['Manufacturer'] == 'peterbilt'].index)\n",
    "    \n",
    "    return df_Method_Chain_by_Year2\n",
    "\n",
    "\n",
    "load_and_process_df_Method_Chain_by_Year(\"/Users/stevenzonneveld/Desktop/data301/project-group35-project/data/raw/MileStone1.csv\")"
   ]
  },
  {
   "cell_type": "markdown",
   "id": "e9e7ab47-9532-4624-99dd-6e02c815c951",
   "metadata": {},
   "source": [
    "#### By Mileage"
   ]
  },
  {
   "cell_type": "code",
   "execution_count": 3,
   "id": "e5e68236-88cb-4aff-8e03-0ddd0c043a2c",
   "metadata": {},
   "outputs": [
    {
     "data": {
      "text/html": [
       "<div>\n",
       "<style scoped>\n",
       "    .dataframe tbody tr th:only-of-type {\n",
       "        vertical-align: middle;\n",
       "    }\n",
       "\n",
       "    .dataframe tbody tr th {\n",
       "        vertical-align: top;\n",
       "    }\n",
       "\n",
       "    .dataframe thead th {\n",
       "        text-align: right;\n",
       "    }\n",
       "</style>\n",
       "<table border=\"1\" class=\"dataframe\">\n",
       "  <thead>\n",
       "    <tr style=\"text-align: right;\">\n",
       "      <th></th>\n",
       "      <th>Manufacturer</th>\n",
       "      <th>Mileage</th>\n",
       "    </tr>\n",
       "  </thead>\n",
       "  <tbody>\n",
       "    <tr>\n",
       "      <th>595</th>\n",
       "      <td>acura</td>\n",
       "      <td>63500.0</td>\n",
       "    </tr>\n",
       "    <tr>\n",
       "      <th>390</th>\n",
       "      <td>acura</td>\n",
       "      <td>179389.0</td>\n",
       "    </tr>\n",
       "    <tr>\n",
       "      <th>374</th>\n",
       "      <td>acura</td>\n",
       "      <td>118250.0</td>\n",
       "    </tr>\n",
       "    <tr>\n",
       "      <th>409</th>\n",
       "      <td>audi</td>\n",
       "      <td>177422.0</td>\n",
       "    </tr>\n",
       "    <tr>\n",
       "      <th>444</th>\n",
       "      <td>audi</td>\n",
       "      <td>47213.0</td>\n",
       "    </tr>\n",
       "    <tr>\n",
       "      <th>...</th>\n",
       "      <td>...</td>\n",
       "      <td>...</td>\n",
       "    </tr>\n",
       "    <tr>\n",
       "      <th>2282</th>\n",
       "      <td>nissan</td>\n",
       "      <td>37655.0</td>\n",
       "    </tr>\n",
       "    <tr>\n",
       "      <th>2292</th>\n",
       "      <td>nissan</td>\n",
       "      <td>107734.0</td>\n",
       "    </tr>\n",
       "    <tr>\n",
       "      <th>2293</th>\n",
       "      <td>nissan</td>\n",
       "      <td>53098.0</td>\n",
       "    </tr>\n",
       "    <tr>\n",
       "      <th>505</th>\n",
       "      <td>ram</td>\n",
       "      <td>30421.0</td>\n",
       "    </tr>\n",
       "    <tr>\n",
       "      <th>0</th>\n",
       "      <td>toyota</td>\n",
       "      <td>274117.0</td>\n",
       "    </tr>\n",
       "  </tbody>\n",
       "</table>\n",
       "<p>2490 rows × 2 columns</p>\n",
       "</div>"
      ],
      "text/plain": [
       "     Manufacturer   Mileage\n",
       "595         acura   63500.0\n",
       "390         acura  179389.0\n",
       "374         acura  118250.0\n",
       "409          audi  177422.0\n",
       "444          audi   47213.0\n",
       "...           ...       ...\n",
       "2282       nissan   37655.0\n",
       "2292       nissan  107734.0\n",
       "2293       nissan   53098.0\n",
       "505           ram   30421.0\n",
       "0          toyota  274117.0\n",
       "\n",
       "[2490 rows x 2 columns]"
      ]
     },
     "execution_count": 3,
     "metadata": {},
     "output_type": "execute_result"
    }
   ],
   "source": [
    "# Method Chaining by Mileage\n",
    "\n",
    "def load_and_process_df_Method_Chain_by_Mileage(path_to_csv_file):\n",
    "\n",
    "    df_Method_Chain_by_Mileage1 = (\n",
    "        pd.read_csv(\"/Users/stevenzonneveld/Desktop/data301/project-group35-project/data/raw/MileStone1.csv\")\n",
    "        .drop(columns = ['Unnamed: 0', 'price', 'title_status', 'color', 'state', 'year'], axis = 0)\n",
    "        .sort_values(by = ['brand'])\n",
    "        #.drop( df_cleaned [ df_cleaned ['brand'] == 'peterbilt'].index, inplace=True) #could not figure out how to use .drop in method chaining.\n",
    "        #.drop( df_cleaned [ df_cleaned ['mileage'] == 0.0 ].index, inplace=True)      #could not figure out how to use .drop in method chaining.    \n",
    "        .rename(columns = {\"brand\": \"Manufacturer\", \"mileage\": \"Mileage\"})\n",
    "    )\n",
    "    df_Method_Chain_by_Mileage2 = df_Method_Chain_by_Mileage1.drop( df_Method_Chain_by_Mileage1 [ df_Method_Chain_by_Mileage1 ['Manufacturer'] == 'peterbilt'].index)\n",
    "    df_Method_Chain_by_Mileage3 = df_Method_Chain_by_Mileage2.drop( df_Method_Chain_by_Mileage2 [ df_Method_Chain_by_Mileage2 ['Mileage'] == 0.0 ].index)\n",
    "    \n",
    "    return df_Method_Chain_by_Mileage3\n",
    "\n",
    "load_and_process_df_Method_Chain_by_Mileage(\"/Users/stevenzonneveld/Desktop/data301/project-group35-project/data/raw/MileStone1.csv\")"
   ]
  },
  {
   "cell_type": "markdown",
   "id": "29b46281-988c-4257-b56f-18f4255c593d",
   "metadata": {},
   "source": [
    "## Variables\n",
    "\n",
    "Manufacturer -> This manufacturer is the name of the company in which produced that specific vehicle.\n",
    "\n",
    "Mileage      -> The mileage of any car is given in miles. This shows how far the car has been driven. \n",
    "\n",
    "Model Year   -> The model year shows what year the car was fabricated and sold in, this tell us how old the car is.\n",
    "\n",
    "## DataFrame\n",
    "\n",
    "There are 2490 rows of data, meaning that our sample size is 2490.\n",
    "\n",
    "We have 3 columns, Manufacturer, Mileage, and year, however these 3 columns are split into two different dataframes, each with the index, and two columns.\n",
    "\n",
    "This dataframe has already been cleaned for null/NaN values, duplicate entries, odd manufacturers and vehicles with 0 mileage."
   ]
  },
  {
   "cell_type": "markdown",
   "id": "1363cb54-2933-4757-84ca-ca81a4d3525b",
   "metadata": {},
   "source": [
    "## Graphs\n",
    "### By Year"
   ]
  },
  {
   "cell_type": "code",
   "execution_count": 69,
   "id": "786351fd-8c95-47bd-8952-ac7780ac1dc8",
   "metadata": {},
   "outputs": [
    {
     "data": {
      "text/html": [
       "<div>\n",
       "<style scoped>\n",
       "    .dataframe tbody tr th:only-of-type {\n",
       "        vertical-align: middle;\n",
       "    }\n",
       "\n",
       "    .dataframe tbody tr th {\n",
       "        vertical-align: top;\n",
       "    }\n",
       "\n",
       "    .dataframe thead th {\n",
       "        text-align: right;\n",
       "    }\n",
       "</style>\n",
       "<table border=\"1\" class=\"dataframe\">\n",
       "  <thead>\n",
       "    <tr style=\"text-align: right;\">\n",
       "      <th></th>\n",
       "      <th>Manufacturer</th>\n",
       "      <th>Model Year</th>\n",
       "    </tr>\n",
       "  </thead>\n",
       "  <tbody>\n",
       "    <tr>\n",
       "      <th>595</th>\n",
       "      <td>acura</td>\n",
       "      <td>2014</td>\n",
       "    </tr>\n",
       "    <tr>\n",
       "      <th>390</th>\n",
       "      <td>acura</td>\n",
       "      <td>2009</td>\n",
       "    </tr>\n",
       "    <tr>\n",
       "      <th>374</th>\n",
       "      <td>acura</td>\n",
       "      <td>2008</td>\n",
       "    </tr>\n",
       "    <tr>\n",
       "      <th>409</th>\n",
       "      <td>audi</td>\n",
       "      <td>2008</td>\n",
       "    </tr>\n",
       "    <tr>\n",
       "      <th>444</th>\n",
       "      <td>audi</td>\n",
       "      <td>2015</td>\n",
       "    </tr>\n",
       "    <tr>\n",
       "      <th>...</th>\n",
       "      <td>...</td>\n",
       "      <td>...</td>\n",
       "    </tr>\n",
       "    <tr>\n",
       "      <th>2282</th>\n",
       "      <td>nissan</td>\n",
       "      <td>2018</td>\n",
       "    </tr>\n",
       "    <tr>\n",
       "      <th>2292</th>\n",
       "      <td>nissan</td>\n",
       "      <td>2012</td>\n",
       "    </tr>\n",
       "    <tr>\n",
       "      <th>2293</th>\n",
       "      <td>nissan</td>\n",
       "      <td>2018</td>\n",
       "    </tr>\n",
       "    <tr>\n",
       "      <th>505</th>\n",
       "      <td>ram</td>\n",
       "      <td>2017</td>\n",
       "    </tr>\n",
       "    <tr>\n",
       "      <th>0</th>\n",
       "      <td>toyota</td>\n",
       "      <td>2008</td>\n",
       "    </tr>\n",
       "  </tbody>\n",
       "</table>\n",
       "<p>2495 rows × 2 columns</p>\n",
       "</div>"
      ],
      "text/plain": [
       "     Manufacturer  Model Year\n",
       "595         acura        2014\n",
       "390         acura        2009\n",
       "374         acura        2008\n",
       "409          audi        2008\n",
       "444          audi        2015\n",
       "...           ...         ...\n",
       "2282       nissan        2018\n",
       "2292       nissan        2012\n",
       "2293       nissan        2018\n",
       "505           ram        2017\n",
       "0          toyota        2008\n",
       "\n",
       "[2495 rows x 2 columns]"
      ]
     },
     "execution_count": 69,
     "metadata": {},
     "output_type": "execute_result"
    }
   ],
   "source": [
    "df_Method_Chain_by_Year_Graph = load_and_process_df_Method_Chain_by_Year(\"/Users/stevenzonneveld/Desktop/data301/project-group35-project/data/raw/MileStone1.csv\")\n",
    "df_Method_Chain_by_Year_Graph\n"
   ]
  },
  {
   "cell_type": "code",
   "execution_count": 101,
   "id": "112ed79b-7f51-4ae4-a7b3-c5a6127e834b",
   "metadata": {},
   "outputs": [
    {
     "data": {
      "text/plain": [
       "Text(0, 0.5, 'Manufacturer')"
      ]
     },
     "execution_count": 101,
     "metadata": {},
     "output_type": "execute_result"
    },
    {
     "data": {
      "image/png": "[encoded data removed]",
      "text/plain": [
       "<Figure size 432x288 with 1 Axes>"
      ]
     },
     "metadata": {
      "needs_background": "light"
     },
     "output_type": "display_data"
    }
   ],
   "source": [
    "sns.boxplot(data = df_Method_Chain_by_Year2, y = \"Manufacturer\", x = \"Model Year\")\n",
    "\n",
    "plt.xlabel(\"Model Year\")\n",
    "plt.ylabel(\"Manufacturer\")\n",
    "#plt.title(\"Quality of Manufacturer's Cars Based on their Model Year\""
   ]
  },
  {
   "cell_type": "markdown",
   "id": "1d2dba3a-7846-48c4-ade5-79e4eb297657",
   "metadata": {},
   "source": [
    "### By Year Analysis\n",
    "\n"
   ]
  },
  {
   "cell_type": "markdown",
   "id": "796c0e80-2ccb-47ac-8fa1-5da6c3fa0ee8",
   "metadata": {},
   "source": [
    "### By Mileage"
   ]
  },
  {
   "cell_type": "code",
   "execution_count": 91,
   "id": "05d0ae52-1ee4-4e54-b404-5d541560cde1",
   "metadata": {},
   "outputs": [
    {
     "data": {
      "text/html": [
       "<div>\n",
       "<style scoped>\n",
       "    .dataframe tbody tr th:only-of-type {\n",
       "        vertical-align: middle;\n",
       "    }\n",
       "\n",
       "    .dataframe tbody tr th {\n",
       "        vertical-align: top;\n",
       "    }\n",
       "\n",
       "    .dataframe thead th {\n",
       "        text-align: right;\n",
       "    }\n",
       "</style>\n",
       "<table border=\"1\" class=\"dataframe\">\n",
       "  <thead>\n",
       "    <tr style=\"text-align: right;\">\n",
       "      <th></th>\n",
       "      <th>Manufacturer</th>\n",
       "      <th>Mileage</th>\n",
       "    </tr>\n",
       "  </thead>\n",
       "  <tbody>\n",
       "    <tr>\n",
       "      <th>595</th>\n",
       "      <td>acura</td>\n",
       "      <td>63500</td>\n",
       "    </tr>\n",
       "    <tr>\n",
       "      <th>390</th>\n",
       "      <td>acura</td>\n",
       "      <td>179389</td>\n",
       "    </tr>\n",
       "    <tr>\n",
       "      <th>374</th>\n",
       "      <td>acura</td>\n",
       "      <td>118250</td>\n",
       "    </tr>\n",
       "    <tr>\n",
       "      <th>409</th>\n",
       "      <td>audi</td>\n",
       "      <td>177422</td>\n",
       "    </tr>\n",
       "    <tr>\n",
       "      <th>444</th>\n",
       "      <td>audi</td>\n",
       "      <td>47213</td>\n",
       "    </tr>\n",
       "    <tr>\n",
       "      <th>...</th>\n",
       "      <td>...</td>\n",
       "      <td>...</td>\n",
       "    </tr>\n",
       "    <tr>\n",
       "      <th>2282</th>\n",
       "      <td>nissan</td>\n",
       "      <td>37655</td>\n",
       "    </tr>\n",
       "    <tr>\n",
       "      <th>2292</th>\n",
       "      <td>nissan</td>\n",
       "      <td>107734</td>\n",
       "    </tr>\n",
       "    <tr>\n",
       "      <th>2293</th>\n",
       "      <td>nissan</td>\n",
       "      <td>53098</td>\n",
       "    </tr>\n",
       "    <tr>\n",
       "      <th>505</th>\n",
       "      <td>ram</td>\n",
       "      <td>30421</td>\n",
       "    </tr>\n",
       "    <tr>\n",
       "      <th>0</th>\n",
       "      <td>toyota</td>\n",
       "      <td>274117</td>\n",
       "    </tr>\n",
       "  </tbody>\n",
       "</table>\n",
       "<p>2490 rows × 2 columns</p>\n",
       "</div>"
      ],
      "text/plain": [
       "     Manufacturer  Mileage\n",
       "595         acura    63500\n",
       "390         acura   179389\n",
       "374         acura   118250\n",
       "409          audi   177422\n",
       "444          audi    47213\n",
       "...           ...      ...\n",
       "2282       nissan    37655\n",
       "2292       nissan   107734\n",
       "2293       nissan    53098\n",
       "505           ram    30421\n",
       "0          toyota   274117\n",
       "\n",
       "[2490 rows x 2 columns]"
      ]
     },
     "execution_count": 91,
     "metadata": {},
     "output_type": "execute_result"
    }
   ],
   "source": [
    "df_Method_Chain_by_Mileage_Graph = load_and_process_df_Method_Chain_by_Mileage(\"/Users/stevenzonneveld/Desktop/data301/project-group35-project/data/raw/MileStone1.csv\")\n",
    "df_Method_Chain_by_Mileage_Graph['Mileage'] = df_Method_Chain_by_Mileage_Graph['Mileage'].astype(int)\n",
    "df_Method_Chain_by_Mileage_Graph"
   ]
  },
  {
   "cell_type": "code",
   "execution_count": 99,
   "id": "5d0c6841-d88d-44c0-8e85-ee4c32426007",
   "metadata": {},
   "outputs": [
    {
     "data": {
      "text/plain": [
       "<seaborn.axisgrid.FacetGrid at 0x7f879bf58700>"
      ]
     },
     "execution_count": 99,
     "metadata": {},
     "output_type": "execute_result"
    },
    {
     "data": {
      "image/png": "[encoded data removed]",
      "text/plain": [
       "<Figure size 360x360 with 1 Axes>"
      ]
     },
     "metadata": {
      "needs_background": "light"
     },
     "output_type": "display_data"
    }
   ],
   "source": [
    "sns.catplot(data = df_Method_Chain_by_Mileage_Graph, y = \"Manufacturer\", x = \"Mileage\")\n",
    "\n",
    "#plt.xlabel(\"Mileage\")\n",
    "#plt.ylabel(\"Manufacturer\")\n",
    "#plt.title(\"Quality of Manufacturer's Cars Based on their Mileage\""
   ]
  },
  {
   "cell_type": "code",
   "execution_count": 93,
   "id": "6d56b440-848d-4964-8edb-087099987700",
   "metadata": {},
   "outputs": [
    {
     "data": {
      "text/plain": [
       "Manufacturer    object\n",
       "Mileage          int64\n",
       "dtype: object"
      ]
     },
     "execution_count": 93,
     "metadata": {},
     "output_type": "execute_result"
    }
   ],
   "source": [
    "df_Method_Chain_by_Mileage_Graph.dtypes"
   ]
  },
  {
   "cell_type": "code",
   "execution_count": 94,
   "id": "8529a069-f255-4273-8fe1-6a7492cfab8a",
   "metadata": {},
   "outputs": [],
   "source": [
    "df_Method_Chain_by_Mileage_Graph['Mileage'] = df_Method_Chain_by_Mileage_Graph['Mileage'].astype(int)"
   ]
  },
  {
   "cell_type": "code",
   "execution_count": 95,
   "id": "e4e2ac61-74fe-4bdd-aa36-e7cd16e8857d",
   "metadata": {},
   "outputs": [
    {
     "data": {
      "text/plain": [
       "Manufacturer    object\n",
       "Mileage          int64\n",
       "dtype: object"
      ]
     },
     "execution_count": 95,
     "metadata": {},
     "output_type": "execute_result"
    }
   ],
   "source": [
    "df_Method_Chain_by_Mileage_Graph.dtypes"
   ]
  },
  {
   "cell_type": "code",
   "execution_count": null,
   "id": "6a23f8fa-f0c6-4113-a1e5-891674dd4ba9",
   "metadata": {},
   "outputs": [],
   "source": []
  }
 ],
 "metadata": {
  "kernelspec": {
   "display_name": "Python 3 (ipykernel)",
   "language": "python",
   "name": "python3"
  },
  "language_info": {
   "codemirror_mode": {
    "name": "ipython",
    "version": 3
   },
   "file_extension": ".py",
   "mimetype": "text/x-python",
   "name": "python",
   "nbconvert_exporter": "python",
   "pygments_lexer": "ipython3",
   "version": "3.8.5"
  }
 },
 "nbformat": 4,
 "nbformat_minor": 5
}
