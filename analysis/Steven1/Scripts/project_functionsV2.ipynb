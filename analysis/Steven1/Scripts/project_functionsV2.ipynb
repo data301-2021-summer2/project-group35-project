{
 "cells": [
  {
   "cell_type": "code",
   "execution_count": 1,
   "id": "ba2558fe-7640-4c1f-a246-bcdc038f6b73",
   "metadata": {},
   "outputs": [],
   "source": [
    "import pandas as pd\n",
    "import seaborn as sns\n",
    "import numpy as np\n",
    "import os\n",
    "import matplotlib.pyplot as plt\n",
    "import pandas_profiling"
   ]
  },
  {
   "cell_type": "code",
   "execution_count": 4,
   "id": "92114331-20aa-4209-af19-d7a7eb8899d8",
   "metadata": {},
   "outputs": [],
   "source": [
    "def load_and_process_df_Method_Chain_by_Year(path_to_csv_file):\n",
    "\n",
    "    df_Method_Chain_by_Year1 = (\n",
    "        pd.read_csv(\"/Users/stevenzonneveld/Desktop/data301/project-group35-project/data/raw/MileStone1.csv\")\n",
    "        .drop(columns = ['Unnamed: 0', 'price', 'title_status', 'color', 'state', 'mileage'], axis = 0)\n",
    "        .sort_values(by = ['brand'])\n",
    "        #.drop( df_cleaned [ df_cleaned ['brand'] == 'peterbilt'].index, inplace=True)  #could not figure out how to use .drop in method chaining.\n",
    "        .rename(columns = {\"brand\": \"Manufacturer\", \"year\": \"Model Year\"})   \n",
    "        )\n",
    "    df_Method_Chain_by_Year2 = df_Method_Chain_by_Year1.drop( df_Method_Chain_by_Year1 [ df_Method_Chain_by_Year1 ['Manufacturer'] == 'peterbilt'].index)\n",
    "    \n",
    "    return df_Method_Chain_by_Year2"
   ]
  },
  {
   "cell_type": "code",
   "execution_count": 3,
   "id": "e9ec5aef-5f83-4986-b43f-3c8503a7e800",
   "metadata": {},
   "outputs": [],
   "source": [
    "def load_and_process_df_Method_Chain_by_Mileage(path_to_csv_file):\n",
    "\n",
    "    df_Method_Chain_by_Mileage1 = (\n",
    "        pd.read_csv(\"/Users/stevenzonneveld/Desktop/data301/project-group35-project/data/raw/MileStone1.csv\")\n",
    "        .drop(columns = ['Unnamed: 0', 'price', 'title_status', 'color', 'state', 'year'], axis = 0)\n",
    "        .sort_values(by = ['brand'])\n",
    "        #.drop( df_cleaned [ df_cleaned ['brand'] == 'peterbilt'].index, inplace=True) #could not figure out how to use .drop in method chaining.\n",
    "        #.drop( df_cleaned [ df_cleaned ['mileage'] == 0.0 ].index, inplace=True)      #could not figure out how to use .drop in method chaining.    \n",
    "        .rename(columns = {\"brand\": \"Manufacturer\", \"mileage\": \"Mileage\"})\n",
    "    )\n",
    "    df_Method_Chain_by_Mileage2 = df_Method_Chain_by_Mileage1.drop( df_Method_Chain_by_Mileage1 [ df_Method_Chain_by_Mileage1 ['Manufacturer'] == 'peterbilt'].index)\n",
    "    df_Method_Chain_by_Mileage3 = df_Method_Chain_by_Mileage2.drop( df_Method_Chain_by_Mileage2 [ df_Method_Chain_by_Mileage2 ['Mileage'] == 0.0 ].index)\n",
    "    \n",
    "    return df_Method_Chain_by_Mileage3"
   ]
  },
  {
   "cell_type": "code",
   "execution_count": null,
   "id": "b918fab8-a67e-4d35-8e43-6ad02a889525",
   "metadata": {},
   "outputs": [],
   "source": []
  }
 ],
 "metadata": {
  "kernelspec": {
   "display_name": "Python 3 (ipykernel)",
   "language": "python",
   "name": "python3"
  },
  "language_info": {
   "codemirror_mode": {
    "name": "ipython",
    "version": 3
   },
   "file_extension": ".py",
   "mimetype": "text/x-python",
   "name": "python",
   "nbconvert_exporter": "python",
   "pygments_lexer": "ipython3",
   "version": "3.8.5"
  }
 },
 "nbformat": 4,
 "nbformat_minor": 5
}
